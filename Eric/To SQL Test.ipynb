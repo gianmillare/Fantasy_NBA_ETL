{
 "cells": [
  {
   "cell_type": "code",
   "execution_count": 34,
   "metadata": {},
   "outputs": [],
   "source": [
    "import sqlalchemy\n",
    "from sqlalchemy.ext.automap import automap_base\n",
    "from sqlalchemy.orm import Session\n",
    "from sqlalchemy import create_engine, inspect\n",
    "import pandas as pd"
   ]
  },
  {
   "cell_type": "code",
   "execution_count": 40,
   "metadata": {},
   "outputs": [
    {
     "data": {
      "text/html": [
       "<div>\n",
       "<style scoped>\n",
       "    .dataframe tbody tr th:only-of-type {\n",
       "        vertical-align: middle;\n",
       "    }\n",
       "\n",
       "    .dataframe tbody tr th {\n",
       "        vertical-align: top;\n",
       "    }\n",
       "\n",
       "    .dataframe thead th {\n",
       "        text-align: right;\n",
       "    }\n",
       "</style>\n",
       "<table border=\"1\" class=\"dataframe\">\n",
       "  <thead>\n",
       "    <tr style=\"text-align: right;\">\n",
       "      <th></th>\n",
       "      <th>Year</th>\n",
       "      <th>Inductees</th>\n",
       "      <th>Pos.</th>\n",
       "      <th>Achievements</th>\n",
       "    </tr>\n",
       "  </thead>\n",
       "  <tbody>\n",
       "    <tr>\n",
       "      <th>70</th>\n",
       "      <td>1988</td>\n",
       "      <td>Clyde Lovellette</td>\n",
       "      <td>C-F</td>\n",
       "      <td>Star big man of the 1950s, for Kansas as colle...</td>\n",
       "    </tr>\n",
       "    <tr>\n",
       "      <th>71</th>\n",
       "      <td>1988</td>\n",
       "      <td>Bobby McDermott</td>\n",
       "      <td>G</td>\n",
       "      <td>star scoring guard and player coach for the Fo...</td>\n",
       "    </tr>\n",
       "    <tr>\n",
       "      <th>72</th>\n",
       "      <td>1988</td>\n",
       "      <td>Wes Unseld</td>\n",
       "      <td>C-F</td>\n",
       "      <td>NBA MVP (1969) NBA Champion (1978) NBA Finals ...</td>\n",
       "    </tr>\n",
       "    <tr>\n",
       "      <th>73</th>\n",
       "      <td>1989</td>\n",
       "      <td>William Gates</td>\n",
       "      <td>F</td>\n",
       "      <td>Two-time World Professional Tournament champio...</td>\n",
       "    </tr>\n",
       "    <tr>\n",
       "      <th>74</th>\n",
       "      <td>1989</td>\n",
       "      <td>K.C. Jones</td>\n",
       "      <td>G</td>\n",
       "      <td>NCAA championship with USF, 1955, 1956U.S. Oly...</td>\n",
       "    </tr>\n",
       "  </tbody>\n",
       "</table>\n",
       "</div>"
      ],
      "text/plain": [
       "    Year         Inductees Pos.  \\\n",
       "70  1988  Clyde Lovellette  C-F   \n",
       "71  1988   Bobby McDermott    G   \n",
       "72  1988        Wes Unseld  C-F   \n",
       "73  1989     William Gates    F   \n",
       "74  1989        K.C. Jones    G   \n",
       "\n",
       "                                         Achievements  \n",
       "70  Star big man of the 1950s, for Kansas as colle...  \n",
       "71  star scoring guard and player coach for the Fo...  \n",
       "72  NBA MVP (1969) NBA Champion (1978) NBA Finals ...  \n",
       "73  Two-time World Professional Tournament champio...  \n",
       "74  NCAA championship with USF, 1955, 1956U.S. Oly...  "
      ]
     },
     "execution_count": 40,
     "metadata": {},
     "output_type": "execute_result"
    }
   ],
   "source": [
    "url = 'https://en.wikipedia.org/wiki/List_of_players_in_the_Naismith_Memorial_Basketball_Hall_of_Fame'\n",
    "hof_table = pd.read_html(url)\n",
    "hof_df = hof_table[0]\n",
    "hof_df = hof_df.loc[hof_df[\"Year\"] > 1987].drop(columns=['Ref.'])\n",
    "\n",
    "inductees_list = hof_df[\"Inductees\"].to_list()\n",
    "\n",
    "hof_df.head()"
   ]
  },
  {
   "cell_type": "code",
   "execution_count": 41,
   "metadata": {},
   "outputs": [],
   "source": [
    "engine = create_engine(\"sqlite:///NBA.sqlite\")\n"
   ]
  },
  {
   "cell_type": "code",
   "execution_count": 46,
   "metadata": {},
   "outputs": [],
   "source": [
    "hof_df.to_sql(name='hall_of_famers', con=engine, if_exists='replace', index=False)"
   ]
  },
  {
   "cell_type": "code",
   "execution_count": 47,
   "metadata": {},
   "outputs": [
    {
     "data": {
      "text/plain": [
       "['hall_of_famers']"
      ]
     },
     "execution_count": 47,
     "metadata": {},
     "output_type": "execute_result"
    }
   ],
   "source": [
    "engine.table_names()"
   ]
  },
  {
   "cell_type": "code",
   "execution_count": 49,
   "metadata": {},
   "outputs": [
    {
     "data": {
      "text/html": [
       "<div>\n",
       "<style scoped>\n",
       "    .dataframe tbody tr th:only-of-type {\n",
       "        vertical-align: middle;\n",
       "    }\n",
       "\n",
       "    .dataframe tbody tr th {\n",
       "        vertical-align: top;\n",
       "    }\n",
       "\n",
       "    .dataframe thead th {\n",
       "        text-align: right;\n",
       "    }\n",
       "</style>\n",
       "<table border=\"1\" class=\"dataframe\">\n",
       "  <thead>\n",
       "    <tr style=\"text-align: right;\">\n",
       "      <th></th>\n",
       "      <th>Year</th>\n",
       "      <th>Inductees</th>\n",
       "      <th>Pos.</th>\n",
       "      <th>Achievements</th>\n",
       "    </tr>\n",
       "  </thead>\n",
       "  <tbody>\n",
       "    <tr>\n",
       "      <th>0</th>\n",
       "      <td>1988</td>\n",
       "      <td>Clyde Lovellette</td>\n",
       "      <td>C-F</td>\n",
       "      <td>Star big man of the 1950s, for Kansas as colle...</td>\n",
       "    </tr>\n",
       "    <tr>\n",
       "      <th>1</th>\n",
       "      <td>1988</td>\n",
       "      <td>Bobby McDermott</td>\n",
       "      <td>G</td>\n",
       "      <td>star scoring guard and player coach for the Fo...</td>\n",
       "    </tr>\n",
       "    <tr>\n",
       "      <th>2</th>\n",
       "      <td>1988</td>\n",
       "      <td>Wes Unseld</td>\n",
       "      <td>C-F</td>\n",
       "      <td>NBA MVP (1969) NBA Champion (1978) NBA Finals ...</td>\n",
       "    </tr>\n",
       "    <tr>\n",
       "      <th>3</th>\n",
       "      <td>1989</td>\n",
       "      <td>William Gates</td>\n",
       "      <td>F</td>\n",
       "      <td>Two-time World Professional Tournament champio...</td>\n",
       "    </tr>\n",
       "    <tr>\n",
       "      <th>4</th>\n",
       "      <td>1989</td>\n",
       "      <td>K.C. Jones</td>\n",
       "      <td>G</td>\n",
       "      <td>NCAA championship with USF, 1955, 1956U.S. Oly...</td>\n",
       "    </tr>\n",
       "  </tbody>\n",
       "</table>\n",
       "</div>"
      ],
      "text/plain": [
       "   Year         Inductees Pos.  \\\n",
       "0  1988  Clyde Lovellette  C-F   \n",
       "1  1988   Bobby McDermott    G   \n",
       "2  1988        Wes Unseld  C-F   \n",
       "3  1989     William Gates    F   \n",
       "4  1989        K.C. Jones    G   \n",
       "\n",
       "                                        Achievements  \n",
       "0  Star big man of the 1950s, for Kansas as colle...  \n",
       "1  star scoring guard and player coach for the Fo...  \n",
       "2  NBA MVP (1969) NBA Champion (1978) NBA Finals ...  \n",
       "3  Two-time World Professional Tournament champio...  \n",
       "4  NCAA championship with USF, 1955, 1956U.S. Oly...  "
      ]
     },
     "execution_count": 49,
     "metadata": {},
     "output_type": "execute_result"
    }
   ],
   "source": [
    "pd.read_sql_query('SELECT * FROM hall_of_famers', con=engine).head()"
   ]
  },
  {
   "cell_type": "code",
   "execution_count": null,
   "metadata": {},
   "outputs": [],
   "source": []
  }
 ],
 "metadata": {
  "kernelspec": {
   "display_name": "Python 3",
   "language": "python",
   "name": "python3"
  },
  "language_info": {
   "codemirror_mode": {
    "name": "ipython",
    "version": 3
   },
   "file_extension": ".py",
   "mimetype": "text/x-python",
   "name": "python",
   "nbconvert_exporter": "python",
   "pygments_lexer": "ipython3",
   "version": "3.7.3"
  }
 },
 "nbformat": 4,
 "nbformat_minor": 2
}
