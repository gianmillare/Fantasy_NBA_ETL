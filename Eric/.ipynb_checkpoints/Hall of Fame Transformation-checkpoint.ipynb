{
 "cells": [
  {
   "cell_type": "code",
   "execution_count": 1,
   "metadata": {},
   "outputs": [],
   "source": [
    "import pandas as pd"
   ]
  },
  {
   "cell_type": "code",
   "execution_count": 2,
   "metadata": {},
   "outputs": [],
   "source": [
    "url = 'https://en.wikipedia.org/wiki/List_of_players_in_the_Naismith_Memorial_Basketball_Hall_of_Fame'"
   ]
  },
  {
   "cell_type": "code",
   "execution_count": 3,
   "metadata": {},
   "outputs": [
    {
     "data": {
      "text/html": [
       "<div>\n",
       "<style scoped>\n",
       "    .dataframe tbody tr th:only-of-type {\n",
       "        vertical-align: middle;\n",
       "    }\n",
       "\n",
       "    .dataframe tbody tr th {\n",
       "        vertical-align: top;\n",
       "    }\n",
       "\n",
       "    .dataframe thead th {\n",
       "        text-align: right;\n",
       "    }\n",
       "</style>\n",
       "<table border=\"1\" class=\"dataframe\">\n",
       "  <thead>\n",
       "    <tr style=\"text-align: right;\">\n",
       "      <th></th>\n",
       "      <th>Year</th>\n",
       "      <th>Inductees</th>\n",
       "      <th>Pos.</th>\n",
       "      <th>Achievements</th>\n",
       "      <th>Ref.</th>\n",
       "    </tr>\n",
       "  </thead>\n",
       "  <tbody>\n",
       "    <tr>\n",
       "      <th>0</th>\n",
       "      <td>1959</td>\n",
       "      <td>Chuck Hyatt</td>\n",
       "      <td>G</td>\n",
       "      <td>National championship (Pittsburgh, 1928, 1930)...</td>\n",
       "      <td>[3]</td>\n",
       "    </tr>\n",
       "    <tr>\n",
       "      <th>1</th>\n",
       "      <td>1959</td>\n",
       "      <td>Hank Luisetti</td>\n",
       "      <td>F</td>\n",
       "      <td>3 Pacific Coast Conference championships (Stan...</td>\n",
       "      <td>[4]</td>\n",
       "    </tr>\n",
       "    <tr>\n",
       "      <th>2</th>\n",
       "      <td>1959</td>\n",
       "      <td>George Mikan</td>\n",
       "      <td>C</td>\n",
       "      <td>All-America (DePaul, 1944–45); All-NBA First-T...</td>\n",
       "      <td>[5]</td>\n",
       "    </tr>\n",
       "    <tr>\n",
       "      <th>3</th>\n",
       "      <td>1959</td>\n",
       "      <td>John Schommer</td>\n",
       "      <td>G</td>\n",
       "      <td>Big Ten Championships (Chicago, 1907–09); All-...</td>\n",
       "      <td>[6]</td>\n",
       "    </tr>\n",
       "    <tr>\n",
       "      <th>4</th>\n",
       "      <td>1960</td>\n",
       "      <td>Vic Hanson</td>\n",
       "      <td>G</td>\n",
       "      <td>Helms Foundation Championship (Syracuse, 1926)...</td>\n",
       "      <td>[7]</td>\n",
       "    </tr>\n",
       "  </tbody>\n",
       "</table>\n",
       "</div>"
      ],
      "text/plain": [
       "   Year      Inductees Pos.  \\\n",
       "0  1959    Chuck Hyatt    G   \n",
       "1  1959  Hank Luisetti    F   \n",
       "2  1959   George Mikan    C   \n",
       "3  1959  John Schommer    G   \n",
       "4  1960     Vic Hanson    G   \n",
       "\n",
       "                                        Achievements Ref.  \n",
       "0  National championship (Pittsburgh, 1928, 1930)...  [3]  \n",
       "1  3 Pacific Coast Conference championships (Stan...  [4]  \n",
       "2  All-America (DePaul, 1944–45); All-NBA First-T...  [5]  \n",
       "3  Big Ten Championships (Chicago, 1907–09); All-...  [6]  \n",
       "4  Helms Foundation Championship (Syracuse, 1926)...  [7]  "
      ]
     },
     "execution_count": 3,
     "metadata": {},
     "output_type": "execute_result"
    }
   ],
   "source": [
    "hof_table = pd.read_html(url)\n",
    "hof_df = hof_table[0]\n",
    "hof_df.head()"
   ]
  },
  {
   "cell_type": "code",
   "execution_count": 5,
   "metadata": {},
   "outputs": [
    {
     "data": {
      "text/plain": [
       "numpy.int64"
      ]
     },
     "execution_count": 5,
     "metadata": {},
     "output_type": "execute_result"
    }
   ],
   "source": [
    "type(hof_df[\"Year\"][0])"
   ]
  },
  {
   "cell_type": "code",
   "execution_count": 9,
   "metadata": {},
   "outputs": [
    {
     "data": {
      "text/plain": [
       "129"
      ]
     },
     "execution_count": 9,
     "metadata": {},
     "output_type": "execute_result"
    }
   ],
   "source": [
    "hof_1977 = hof_df.loc[hof_df[\"Year\"] > 1987]\n",
    "\n",
    "hof_1977[\"Inductees\"].to_list()\n",
    "\n",
    "len(hof_1977)\n"
   ]
  },
  {
   "cell_type": "code",
   "execution_count": null,
   "metadata": {},
   "outputs": [],
   "source": []
  }
 ],
 "metadata": {
  "kernelspec": {
   "display_name": "Python 3",
   "language": "python",
   "name": "python3"
  },
  "language_info": {
   "codemirror_mode": {
    "name": "ipython",
    "version": 3
   },
   "file_extension": ".py",
   "mimetype": "text/x-python",
   "name": "python",
   "nbconvert_exporter": "python",
   "pygments_lexer": "ipython3",
   "version": "3.7.3"
  }
 },
 "nbformat": 4,
 "nbformat_minor": 2
}
