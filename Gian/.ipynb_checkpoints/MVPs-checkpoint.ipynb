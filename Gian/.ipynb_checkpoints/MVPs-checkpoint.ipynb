{
 "cells": [
  {
   "cell_type": "code",
   "execution_count": 1,
   "metadata": {},
   "outputs": [
    {
     "name": "stdout",
     "output_type": "stream",
     "text": [
      "/usr/local/bin/chromedriver\r\n"
     ]
    }
   ],
   "source": [
    "from splinter import Browser\n",
    "from splinter.exceptions import ElementDoesNotExist\n",
    "from bs4 import BeautifulSoup\n",
    "import re\n",
    "\n",
    "import time\n",
    "import pandas as pd\n",
    "\n",
    "!which chromedriver"
   ]
  },
  {
   "cell_type": "code",
   "execution_count": 2,
   "metadata": {},
   "outputs": [
    {
     "data": {
      "text/html": [
       "<div>\n",
       "<style scoped>\n",
       "    .dataframe tbody tr th:only-of-type {\n",
       "        vertical-align: middle;\n",
       "    }\n",
       "\n",
       "    .dataframe tbody tr th {\n",
       "        vertical-align: top;\n",
       "    }\n",
       "\n",
       "    .dataframe thead th {\n",
       "        text-align: right;\n",
       "    }\n",
       "</style>\n",
       "<table border=\"1\" class=\"dataframe\">\n",
       "  <thead>\n",
       "    <tr style=\"text-align: right;\">\n",
       "      <th></th>\n",
       "      <th>Unnamed: 0</th>\n",
       "      <th>Unnamed: 1</th>\n",
       "      <th>Unnamed: 2</th>\n",
       "      <th>Unnamed: 3</th>\n",
       "      <th>Unnamed: 4</th>\n",
       "      <th>Unnamed: 5</th>\n",
       "      <th>Unnamed: 6</th>\n",
       "      <th>Per Game</th>\n",
       "      <th>Per Game.1</th>\n",
       "      <th>Per Game.2</th>\n",
       "      <th>Per Game.3</th>\n",
       "      <th>Per Game.4</th>\n",
       "      <th>Per Game.5</th>\n",
       "      <th>Shooting</th>\n",
       "      <th>Shooting.1</th>\n",
       "      <th>Shooting.2</th>\n",
       "      <th>Advanced</th>\n",
       "      <th>Advanced.1</th>\n",
       "    </tr>\n",
       "  </thead>\n",
       "  <tbody>\n",
       "    <tr>\n",
       "      <th>0</th>\n",
       "      <td>Season</td>\n",
       "      <td>Lg</td>\n",
       "      <td>Player</td>\n",
       "      <td>Voting</td>\n",
       "      <td>Age</td>\n",
       "      <td>Tm</td>\n",
       "      <td>G</td>\n",
       "      <td>MP</td>\n",
       "      <td>PTS</td>\n",
       "      <td>TRB</td>\n",
       "      <td>AST</td>\n",
       "      <td>STL</td>\n",
       "      <td>BLK</td>\n",
       "      <td>FG%</td>\n",
       "      <td>3P%</td>\n",
       "      <td>FT%</td>\n",
       "      <td>WS</td>\n",
       "      <td>WS/48</td>\n",
       "    </tr>\n",
       "    <tr>\n",
       "      <th>1</th>\n",
       "      <td>2018-19</td>\n",
       "      <td>NBA</td>\n",
       "      <td>Giannis Antetokounmpo\\antetgi01</td>\n",
       "      <td>(V)</td>\n",
       "      <td>24</td>\n",
       "      <td>MIL</td>\n",
       "      <td>72</td>\n",
       "      <td>32.8</td>\n",
       "      <td>27.7</td>\n",
       "      <td>12.5</td>\n",
       "      <td>5.9</td>\n",
       "      <td>1.3</td>\n",
       "      <td>1.5</td>\n",
       "      <td>.578</td>\n",
       "      <td>.256</td>\n",
       "      <td>.729</td>\n",
       "      <td>14.4</td>\n",
       "      <td>.292</td>\n",
       "    </tr>\n",
       "    <tr>\n",
       "      <th>2</th>\n",
       "      <td>2017-18</td>\n",
       "      <td>NBA</td>\n",
       "      <td>James Harden\\hardeja01</td>\n",
       "      <td>(V)</td>\n",
       "      <td>28</td>\n",
       "      <td>HOU</td>\n",
       "      <td>72</td>\n",
       "      <td>35.4</td>\n",
       "      <td>30.4</td>\n",
       "      <td>5.4</td>\n",
       "      <td>8.8</td>\n",
       "      <td>1.8</td>\n",
       "      <td>0.7</td>\n",
       "      <td>.449</td>\n",
       "      <td>.367</td>\n",
       "      <td>.858</td>\n",
       "      <td>15.4</td>\n",
       "      <td>.289</td>\n",
       "    </tr>\n",
       "    <tr>\n",
       "      <th>3</th>\n",
       "      <td>2016-17</td>\n",
       "      <td>NBA</td>\n",
       "      <td>Russell Westbrook\\westbru01</td>\n",
       "      <td>(V)</td>\n",
       "      <td>28</td>\n",
       "      <td>OKC</td>\n",
       "      <td>81</td>\n",
       "      <td>34.6</td>\n",
       "      <td>31.6</td>\n",
       "      <td>10.7</td>\n",
       "      <td>10.4</td>\n",
       "      <td>1.6</td>\n",
       "      <td>0.4</td>\n",
       "      <td>.425</td>\n",
       "      <td>.343</td>\n",
       "      <td>.845</td>\n",
       "      <td>13.1</td>\n",
       "      <td>.224</td>\n",
       "    </tr>\n",
       "    <tr>\n",
       "      <th>4</th>\n",
       "      <td>2015-16</td>\n",
       "      <td>NBA</td>\n",
       "      <td>Stephen Curry\\curryst01</td>\n",
       "      <td>(V)</td>\n",
       "      <td>27</td>\n",
       "      <td>GSW</td>\n",
       "      <td>79</td>\n",
       "      <td>34.2</td>\n",
       "      <td>30.1</td>\n",
       "      <td>5.4</td>\n",
       "      <td>6.7</td>\n",
       "      <td>2.1</td>\n",
       "      <td>0.2</td>\n",
       "      <td>.504</td>\n",
       "      <td>.454</td>\n",
       "      <td>.908</td>\n",
       "      <td>17.9</td>\n",
       "      <td>.318</td>\n",
       "    </tr>\n",
       "  </tbody>\n",
       "</table>\n",
       "</div>"
      ],
      "text/plain": [
       "  Unnamed: 0 Unnamed: 1                       Unnamed: 2 Unnamed: 3  \\\n",
       "0     Season         Lg                           Player     Voting   \n",
       "1    2018-19        NBA  Giannis Antetokounmpo\\antetgi01        (V)   \n",
       "2    2017-18        NBA           James Harden\\hardeja01        (V)   \n",
       "3    2016-17        NBA      Russell Westbrook\\westbru01        (V)   \n",
       "4    2015-16        NBA          Stephen Curry\\curryst01        (V)   \n",
       "\n",
       "  Unnamed: 4 Unnamed: 5 Unnamed: 6 Per Game Per Game.1 Per Game.2 Per Game.3  \\\n",
       "0        Age         Tm          G       MP        PTS        TRB        AST   \n",
       "1         24        MIL         72     32.8       27.7       12.5        5.9   \n",
       "2         28        HOU         72     35.4       30.4        5.4        8.8   \n",
       "3         28        OKC         81     34.6       31.6       10.7       10.4   \n",
       "4         27        GSW         79     34.2       30.1        5.4        6.7   \n",
       "\n",
       "  Per Game.4 Per Game.5 Shooting Shooting.1 Shooting.2 Advanced Advanced.1  \n",
       "0        STL        BLK      FG%        3P%        FT%       WS      WS/48  \n",
       "1        1.3        1.5     .578       .256       .729     14.4       .292  \n",
       "2        1.8        0.7     .449       .367       .858     15.4       .289  \n",
       "3        1.6        0.4     .425       .343       .845     13.1       .224  \n",
       "4        2.1        0.2     .504       .454       .908     17.9       .318  "
      ]
     },
     "execution_count": 2,
     "metadata": {},
     "output_type": "execute_result"
    }
   ],
   "source": [
    "csvpath = pd.read_csv('Resources/mvp_list.csv')\n",
    "csvpath.head()"
   ]
  },
  {
   "cell_type": "code",
   "execution_count": 3,
   "metadata": {},
   "outputs": [
    {
     "data": {
      "text/plain": [
       "['Giannis Antetokounmpo\\\\antetgi01',\n",
       " 'James Harden\\\\hardeja01',\n",
       " 'Russell Westbrook\\\\westbru01',\n",
       " 'Stephen Curry\\\\curryst01',\n",
       " 'Stephen Curry\\\\curryst01',\n",
       " 'Kevin Durant\\\\duranke01',\n",
       " 'LeBron James\\\\jamesle01',\n",
       " 'LeBron James\\\\jamesle01',\n",
       " 'Derrick Rose\\\\rosede01',\n",
       " 'LeBron James\\\\jamesle01',\n",
       " 'LeBron James\\\\jamesle01',\n",
       " 'Kobe Bryant\\\\bryanko01',\n",
       " 'Dirk Nowitzki\\\\nowitdi01',\n",
       " 'Steve Nash\\\\nashst01',\n",
       " 'Steve Nash\\\\nashst01',\n",
       " 'Kevin Garnett\\\\garneke01',\n",
       " 'Tim Duncan\\\\duncati01',\n",
       " 'Tim Duncan\\\\duncati01',\n",
       " 'Allen Iverson\\\\iversal01',\n",
       " \"Shaquille O'Neal\\\\onealsh01\",\n",
       " 'Karl Malone\\\\malonka01',\n",
       " 'Michael Jordan\\\\jordami01',\n",
       " 'Karl Malone\\\\malonka01',\n",
       " 'Michael Jordan\\\\jordami01',\n",
       " 'David Robinson\\\\robinda01',\n",
       " 'Hakeem Olajuwon\\\\olajuha01',\n",
       " 'Charles Barkley\\\\barklch01',\n",
       " 'Michael Jordan\\\\jordami01',\n",
       " 'Michael Jordan\\\\jordami01',\n",
       " 'Magic Johnson\\\\johnsma02']"
      ]
     },
     "execution_count": 3,
     "metadata": {},
     "output_type": "execute_result"
    }
   ],
   "source": [
    "mvp_list = csvpath.iloc[1:-1,2].to_list()\n",
    "mvp_list"
   ]
  },
  {
   "cell_type": "code",
   "execution_count": 4,
   "metadata": {},
   "outputs": [],
   "source": [
    "master_mvp = []\n",
    "for player in mvp_list:\n",
    "    master_mvp.append(player.split('\\\\')[0])"
   ]
  },
  {
   "cell_type": "code",
   "execution_count": 5,
   "metadata": {},
   "outputs": [
    {
     "data": {
      "text/plain": [
       "['Giannis Antetokounmpo',\n",
       " 'James Harden',\n",
       " 'Russell Westbrook',\n",
       " 'Stephen Curry',\n",
       " 'Stephen Curry',\n",
       " 'Kevin Durant',\n",
       " 'LeBron James',\n",
       " 'LeBron James',\n",
       " 'Derrick Rose',\n",
       " 'LeBron James',\n",
       " 'LeBron James',\n",
       " 'Kobe Bryant',\n",
       " 'Dirk Nowitzki',\n",
       " 'Steve Nash',\n",
       " 'Steve Nash',\n",
       " 'Kevin Garnett',\n",
       " 'Tim Duncan',\n",
       " 'Tim Duncan',\n",
       " 'Allen Iverson',\n",
       " \"Shaquille O'Neal\",\n",
       " 'Karl Malone',\n",
       " 'Michael Jordan',\n",
       " 'Karl Malone',\n",
       " 'Michael Jordan',\n",
       " 'David Robinson',\n",
       " 'Hakeem Olajuwon',\n",
       " 'Charles Barkley',\n",
       " 'Michael Jordan',\n",
       " 'Michael Jordan',\n",
       " 'Magic Johnson']"
      ]
     },
     "execution_count": 5,
     "metadata": {},
     "output_type": "execute_result"
    }
   ],
   "source": [
    "master_mvp"
   ]
  },
  {
   "cell_type": "code",
   "execution_count": 6,
   "metadata": {},
   "outputs": [
    {
     "data": {
      "text/plain": [
       "['Giannis Antetokounmpo',\n",
       " 'James Harden',\n",
       " 'Russell Westbrook',\n",
       " 'Stephen Curry',\n",
       " 'Kevin Durant',\n",
       " 'LeBron James',\n",
       " 'Derrick Rose',\n",
       " 'Kobe Bryant',\n",
       " 'Dirk Nowitzki',\n",
       " 'Steve Nash',\n",
       " 'Kevin Garnett',\n",
       " 'Tim Duncan',\n",
       " 'Allen Iverson',\n",
       " \"Shaquille O'Neal\",\n",
       " 'Karl Malone',\n",
       " 'Michael Jordan',\n",
       " 'David Robinson',\n",
       " 'Hakeem Olajuwon',\n",
       " 'Charles Barkley',\n",
       " 'Magic Johnson']"
      ]
     },
     "execution_count": 6,
     "metadata": {},
     "output_type": "execute_result"
    }
   ],
   "source": [
    "master_mvp = list(dict.fromkeys(master_mvp))\n",
    "master_mvp"
   ]
  },
  {
   "cell_type": "code",
   "execution_count": 10,
   "metadata": {},
   "outputs": [],
   "source": [
    "executable_path = {'executable_path': '/usr/local/bin/chromedriver'}\n",
    "browser = Browser('chrome', **executable_path, headless=False)\n",
    "\n",
    "url = 'https://www.basketball-reference.com/'\n",
    "browser.visit(url)"
   ]
  },
  {
   "cell_type": "code",
   "execution_count": 11,
   "metadata": {},
   "outputs": [],
   "source": [
    "player_totals = pd.DataFrame()\n",
    "\n",
    "for player in master_mvp:\n",
    "    try:\n",
    "        html = browser.html\n",
    "        soup = BeautifulSoup(html, 'html.parser')\n",
    "        browser.find_by_css('.ac-input').first.fill(player)\n",
    "        browser.find_by_value('Search').first.click()\n",
    "        browser.first.click_link_by_partial_text(player)\n",
    "        time.sleep(2)\n",
    "        \n",
    "        table = soup.find('div', {'id':'div_totals'})\n",
    "        df = pd.read_html(str(table))[0]\n",
    "        df['Player'] = player\n",
    "    \n",
    "        player_totals = player_totals.append(df, ignore_index = True)\n",
    "    except:\n",
    "        pass"
   ]
  },
  {
   "cell_type": "code",
   "execution_count": 9,
   "metadata": {},
   "outputs": [
    {
     "data": {
      "text/html": [
       "<div>\n",
       "<style scoped>\n",
       "    .dataframe tbody tr th:only-of-type {\n",
       "        vertical-align: middle;\n",
       "    }\n",
       "\n",
       "    .dataframe tbody tr th {\n",
       "        vertical-align: top;\n",
       "    }\n",
       "\n",
       "    .dataframe thead th {\n",
       "        text-align: right;\n",
       "    }\n",
       "</style>\n",
       "<table border=\"1\" class=\"dataframe\">\n",
       "  <thead>\n",
       "    <tr style=\"text-align: right;\">\n",
       "      <th></th>\n",
       "    </tr>\n",
       "  </thead>\n",
       "  <tbody>\n",
       "  </tbody>\n",
       "</table>\n",
       "</div>"
      ],
      "text/plain": [
       "Empty DataFrame\n",
       "Columns: []\n",
       "Index: []"
      ]
     },
     "execution_count": 9,
     "metadata": {},
     "output_type": "execute_result"
    }
   ],
   "source": [
    "player_totals"
   ]
  },
  {
   "cell_type": "code",
   "execution_count": 115,
   "metadata": {},
   "outputs": [],
   "source": [
    "player_totals.to_csv('Outputs/MVP_stats.csv', encoding='utf-8')"
   ]
  },
  {
   "cell_type": "code",
   "execution_count": null,
   "metadata": {},
   "outputs": [],
   "source": []
  }
 ],
 "metadata": {
  "kernelspec": {
   "display_name": "Python 3",
   "language": "python",
   "name": "python3"
  },
  "language_info": {
   "codemirror_mode": {
    "name": "ipython",
    "version": 3
   },
   "file_extension": ".py",
   "mimetype": "text/x-python",
   "name": "python",
   "nbconvert_exporter": "python",
   "pygments_lexer": "ipython3",
   "version": "3.6.9"
  }
 },
 "nbformat": 4,
 "nbformat_minor": 2
}
